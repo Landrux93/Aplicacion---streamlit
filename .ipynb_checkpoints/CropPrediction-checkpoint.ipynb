{
 "cells": [
  {
   "cell_type": "markdown",
   "metadata": {
    "id": "FhvR2zmKbyOJ"
   },
   "source": [
    "#**Recomendación tipo de cultivo**\n",
    "\n",
    "Generaremos un modelo de máquina de soporte vectorial SVM para recomendar un tipo de cultivo dependiendo de la información del suelo y ambiental. El modelo luego se pondrá en producción usando google cloud y streamlit.\n",
    "\n",
    "## **Dataset:**\n",
    "\n",
    "El dataset usado se denomina \"Crop Recommendation Dataset\" y se encuentra público en kaggle. Puedes encontrarlo en el siguiente enlace:\n",
    "\n",
    "[Dataset Kaggle](https://www.kaggle.com/atharvaingle/crop-recommendation-dataset?select=Crop_recommendation.csv)\n",
    "\n",
    "## **Variables independientes:**\n",
    "\n",
    "*   Nitrógeno\n",
    "*   Fósforo\n",
    "*   Potasio\n",
    "*   Temperatura\n",
    "*   Humedad\n",
    "*   pH\n",
    "*   Lluvia\n"
   ]
  },
  {
   "cell_type": "markdown",
   "metadata": {
    "id": "GFbboE9LdwcI"
   },
   "source": [
    "# 1. Instalación scikit-learn"
   ]
  },
  {
   "cell_type": "code",
   "execution_count": 85,
   "metadata": {
    "colab": {
     "base_uri": "https://localhost:8080/"
    },
    "id": "XOzGkLH-TeH5",
    "outputId": "3a9c2e26-f7b5-4187-8839-d87e21ce1420"
   },
   "outputs": [
    {
     "name": "stdout",
     "output_type": "stream",
     "text": [
      "Requirement already satisfied: scikit-learn==0.24.1 in /home/landrux/.local/lib/python3.9/site-packages (0.24.1)\n",
      "Requirement already satisfied: scipy>=0.19.1 in /home/landrux/.local/lib/python3.9/site-packages (from scikit-learn==0.24.1) (1.8.1)\n",
      "Requirement already satisfied: joblib>=0.11 in /home/landrux/.local/lib/python3.9/site-packages (from scikit-learn==0.24.1) (1.1.0)\n",
      "Requirement already satisfied: numpy>=1.13.3 in /home/landrux/.local/lib/python3.9/site-packages (from scikit-learn==0.24.1) (1.22.3)\n",
      "Requirement already satisfied: threadpoolctl>=2.0.0 in /home/landrux/.local/lib/python3.9/site-packages (from scikit-learn==0.24.1) (3.1.0)\n",
      "Collecting xlrd\n",
      "  Downloading xlrd-2.0.1-py2.py3-none-any.whl (96 kB)\n",
      "\u001b[K     |████████████████████████████████| 96 kB 474 kB/s eta 0:00:01\n",
      "\u001b[?25hInstalling collected packages: xlrd\n",
      "Successfully installed xlrd-2.0.1\n"
     ]
    }
   ],
   "source": [
    "!pip install scikit-learn==0.24.1\n",
    "!pip install xlrd"
   ]
  },
  {
   "cell_type": "markdown",
   "metadata": {
    "id": "n3Ff3zzOeBiI"
   },
   "source": [
    "# 2. Importamos librerias"
   ]
  },
  {
   "cell_type": "code",
   "execution_count": 75,
   "metadata": {
    "colab": {
     "base_uri": "https://localhost:8080/",
     "height": 35
    },
    "id": "6K6Yo4vAgN-h",
    "outputId": "541e49d8-788e-440e-b6ca-2774611803d3"
   },
   "outputs": [
    {
     "data": {
      "text/plain": [
       "'0.24.1'"
      ]
     },
     "execution_count": 75,
     "metadata": {},
     "output_type": "execute_result"
    }
   ],
   "source": [
    "import numpy as np\n",
    "from sklearn import svm\n",
    "import pandas as pd\n",
    "import matplotlib.pyplot as plt\n",
    "import pickle\n",
    "from sklearn.linear_model import LinearRegression\n",
    "from sklearn.metrics import mean_squared_error\n",
    "import sklearn\n",
    "import seaborn as sns\n",
    "sklearn.__version__"
   ]
  },
  {
   "cell_type": "code",
   "execution_count": 76,
   "metadata": {
    "colab": {
     "base_uri": "https://localhost:8080/"
    },
    "id": "TXqNRaKfQAYQ",
    "outputId": "656c69e8-5773-447f-c8e2-832dddb91ca7"
   },
   "outputs": [
    {
     "name": "stdout",
     "output_type": "stream",
     "text": [
      "Python 3.9.2\n"
     ]
    }
   ],
   "source": [
    "!python3 --version"
   ]
  },
  {
   "cell_type": "markdown",
   "metadata": {
    "id": "hjd5xMWceThZ"
   },
   "source": [
    "# 3. Cargamos dataset"
   ]
  },
  {
   "cell_type": "code",
   "execution_count": 86,
   "metadata": {
    "colab": {
     "base_uri": "https://localhost:8080/",
     "height": 203
    },
    "id": "kfBvDj9mhEbn",
    "outputId": "fc34cb0c-ac4f-4f2d-f161-e6b1ad24ba02"
   },
   "outputs": [
    {
     "data": {
      "text/html": [
       "<div>\n",
       "<style scoped>\n",
       "    .dataframe tbody tr th:only-of-type {\n",
       "        vertical-align: middle;\n",
       "    }\n",
       "\n",
       "    .dataframe tbody tr th {\n",
       "        vertical-align: top;\n",
       "    }\n",
       "\n",
       "    .dataframe thead th {\n",
       "        text-align: right;\n",
       "    }\n",
       "</style>\n",
       "<table border=\"1\" class=\"dataframe\">\n",
       "  <thead>\n",
       "    <tr style=\"text-align: right;\">\n",
       "      <th></th>\n",
       "      <th>STG</th>\n",
       "      <th>SCG</th>\n",
       "      <th>STR</th>\n",
       "      <th>LPR</th>\n",
       "      <th>PEG</th>\n",
       "      <th>UNS</th>\n",
       "    </tr>\n",
       "  </thead>\n",
       "  <tbody>\n",
       "    <tr>\n",
       "      <th>0</th>\n",
       "      <td>0.00</td>\n",
       "      <td>0.00</td>\n",
       "      <td>0.00</td>\n",
       "      <td>0.00</td>\n",
       "      <td>0.00</td>\n",
       "      <td>very_low</td>\n",
       "    </tr>\n",
       "    <tr>\n",
       "      <th>1</th>\n",
       "      <td>0.08</td>\n",
       "      <td>0.08</td>\n",
       "      <td>0.10</td>\n",
       "      <td>0.24</td>\n",
       "      <td>0.90</td>\n",
       "      <td>High</td>\n",
       "    </tr>\n",
       "    <tr>\n",
       "      <th>2</th>\n",
       "      <td>0.06</td>\n",
       "      <td>0.06</td>\n",
       "      <td>0.05</td>\n",
       "      <td>0.25</td>\n",
       "      <td>0.33</td>\n",
       "      <td>Low</td>\n",
       "    </tr>\n",
       "    <tr>\n",
       "      <th>3</th>\n",
       "      <td>0.10</td>\n",
       "      <td>0.10</td>\n",
       "      <td>0.15</td>\n",
       "      <td>0.65</td>\n",
       "      <td>0.30</td>\n",
       "      <td>Middle</td>\n",
       "    </tr>\n",
       "    <tr>\n",
       "      <th>4</th>\n",
       "      <td>0.08</td>\n",
       "      <td>0.08</td>\n",
       "      <td>0.08</td>\n",
       "      <td>0.98</td>\n",
       "      <td>0.24</td>\n",
       "      <td>Low</td>\n",
       "    </tr>\n",
       "    <tr>\n",
       "      <th>5</th>\n",
       "      <td>0.09</td>\n",
       "      <td>0.15</td>\n",
       "      <td>0.40</td>\n",
       "      <td>0.10</td>\n",
       "      <td>0.66</td>\n",
       "      <td>Middle</td>\n",
       "    </tr>\n",
       "    <tr>\n",
       "      <th>6</th>\n",
       "      <td>0.10</td>\n",
       "      <td>0.10</td>\n",
       "      <td>0.43</td>\n",
       "      <td>0.29</td>\n",
       "      <td>0.56</td>\n",
       "      <td>Middle</td>\n",
       "    </tr>\n",
       "    <tr>\n",
       "      <th>7</th>\n",
       "      <td>0.15</td>\n",
       "      <td>0.02</td>\n",
       "      <td>0.34</td>\n",
       "      <td>0.40</td>\n",
       "      <td>0.01</td>\n",
       "      <td>very_low</td>\n",
       "    </tr>\n",
       "    <tr>\n",
       "      <th>8</th>\n",
       "      <td>0.20</td>\n",
       "      <td>0.14</td>\n",
       "      <td>0.35</td>\n",
       "      <td>0.72</td>\n",
       "      <td>0.25</td>\n",
       "      <td>Low</td>\n",
       "    </tr>\n",
       "    <tr>\n",
       "      <th>9</th>\n",
       "      <td>0.00</td>\n",
       "      <td>0.00</td>\n",
       "      <td>0.50</td>\n",
       "      <td>0.20</td>\n",
       "      <td>0.85</td>\n",
       "      <td>High</td>\n",
       "    </tr>\n",
       "  </tbody>\n",
       "</table>\n",
       "</div>"
      ],
      "text/plain": [
       "    STG   SCG   STR   LPR   PEG       UNS\n",
       "0  0.00  0.00  0.00  0.00  0.00  very_low\n",
       "1  0.08  0.08  0.10  0.24  0.90      High\n",
       "2  0.06  0.06  0.05  0.25  0.33       Low\n",
       "3  0.10  0.10  0.15  0.65  0.30    Middle\n",
       "4  0.08  0.08  0.08  0.98  0.24       Low\n",
       "5  0.09  0.15  0.40  0.10  0.66    Middle\n",
       "6  0.10  0.10  0.43  0.29  0.56    Middle\n",
       "7  0.15  0.02  0.34  0.40  0.01  very_low\n",
       "8  0.20  0.14  0.35  0.72  0.25       Low\n",
       "9  0.00  0.00  0.50  0.20  0.85      High"
      ]
     },
     "execution_count": 86,
     "metadata": {},
     "output_type": "execute_result"
    }
   ],
   "source": [
    "df = pd.read_excel('./data.xls')\n",
    "df.head(10)"
   ]
  },
  {
   "cell_type": "code",
   "execution_count": 87,
   "metadata": {
    "colab": {
     "base_uri": "https://localhost:8080/",
     "height": 295
    },
    "id": "8Z7RjYUUhGN-",
    "outputId": "792f3cbf-186e-43ce-f5b1-fc8ffdc5a737"
   },
   "outputs": [
    {
     "data": {
      "text/html": [
       "<div>\n",
       "<style scoped>\n",
       "    .dataframe tbody tr th:only-of-type {\n",
       "        vertical-align: middle;\n",
       "    }\n",
       "\n",
       "    .dataframe tbody tr th {\n",
       "        vertical-align: top;\n",
       "    }\n",
       "\n",
       "    .dataframe thead th {\n",
       "        text-align: right;\n",
       "    }\n",
       "</style>\n",
       "<table border=\"1\" class=\"dataframe\">\n",
       "  <thead>\n",
       "    <tr style=\"text-align: right;\">\n",
       "      <th></th>\n",
       "      <th>STG</th>\n",
       "      <th>SCG</th>\n",
       "      <th>STR</th>\n",
       "      <th>LPR</th>\n",
       "      <th>PEG</th>\n",
       "    </tr>\n",
       "  </thead>\n",
       "  <tbody>\n",
       "    <tr>\n",
       "      <th>count</th>\n",
       "      <td>403.000000</td>\n",
       "      <td>403.000000</td>\n",
       "      <td>403.000000</td>\n",
       "      <td>403.000000</td>\n",
       "      <td>403.000000</td>\n",
       "    </tr>\n",
       "    <tr>\n",
       "      <th>mean</th>\n",
       "      <td>0.353141</td>\n",
       "      <td>0.355940</td>\n",
       "      <td>0.457655</td>\n",
       "      <td>0.431342</td>\n",
       "      <td>0.456360</td>\n",
       "    </tr>\n",
       "    <tr>\n",
       "      <th>std</th>\n",
       "      <td>0.212018</td>\n",
       "      <td>0.215531</td>\n",
       "      <td>0.246684</td>\n",
       "      <td>0.257545</td>\n",
       "      <td>0.266775</td>\n",
       "    </tr>\n",
       "    <tr>\n",
       "      <th>min</th>\n",
       "      <td>0.000000</td>\n",
       "      <td>0.000000</td>\n",
       "      <td>0.000000</td>\n",
       "      <td>0.000000</td>\n",
       "      <td>0.000000</td>\n",
       "    </tr>\n",
       "    <tr>\n",
       "      <th>25%</th>\n",
       "      <td>0.200000</td>\n",
       "      <td>0.200000</td>\n",
       "      <td>0.265000</td>\n",
       "      <td>0.250000</td>\n",
       "      <td>0.250000</td>\n",
       "    </tr>\n",
       "    <tr>\n",
       "      <th>50%</th>\n",
       "      <td>0.300000</td>\n",
       "      <td>0.300000</td>\n",
       "      <td>0.440000</td>\n",
       "      <td>0.330000</td>\n",
       "      <td>0.400000</td>\n",
       "    </tr>\n",
       "    <tr>\n",
       "      <th>75%</th>\n",
       "      <td>0.480000</td>\n",
       "      <td>0.510000</td>\n",
       "      <td>0.680000</td>\n",
       "      <td>0.650000</td>\n",
       "      <td>0.660000</td>\n",
       "    </tr>\n",
       "    <tr>\n",
       "      <th>max</th>\n",
       "      <td>0.990000</td>\n",
       "      <td>0.900000</td>\n",
       "      <td>0.950000</td>\n",
       "      <td>0.990000</td>\n",
       "      <td>0.990000</td>\n",
       "    </tr>\n",
       "  </tbody>\n",
       "</table>\n",
       "</div>"
      ],
      "text/plain": [
       "              STG         SCG         STR         LPR         PEG\n",
       "count  403.000000  403.000000  403.000000  403.000000  403.000000\n",
       "mean     0.353141    0.355940    0.457655    0.431342    0.456360\n",
       "std      0.212018    0.215531    0.246684    0.257545    0.266775\n",
       "min      0.000000    0.000000    0.000000    0.000000    0.000000\n",
       "25%      0.200000    0.200000    0.265000    0.250000    0.250000\n",
       "50%      0.300000    0.300000    0.440000    0.330000    0.400000\n",
       "75%      0.480000    0.510000    0.680000    0.650000    0.660000\n",
       "max      0.990000    0.900000    0.950000    0.990000    0.990000"
      ]
     },
     "execution_count": 87,
     "metadata": {},
     "output_type": "execute_result"
    }
   ],
   "source": [
    "df.describe()"
   ]
  },
  {
   "cell_type": "code",
   "execution_count": 89,
   "metadata": {},
   "outputs": [
    {
     "data": {
      "text/plain": [
       "Index(['STG', 'SCG', 'STR', 'LPR', 'PEG', 'UNS'], dtype='object')"
      ]
     },
     "execution_count": 89,
     "metadata": {},
     "output_type": "execute_result"
    }
   ],
   "source": [
    "df.columns = [each.strip() for each in df.columns]\n",
    "df.columns"
   ]
  },
  {
   "cell_type": "code",
   "execution_count": 90,
   "metadata": {},
   "outputs": [
    {
     "data": {
      "text/plain": [
       "Low         129\n",
       "Middle      122\n",
       "High        102\n",
       "Very Low     26\n",
       "very_low     24\n",
       "Name: UNS, dtype: int64"
      ]
     },
     "execution_count": 90,
     "metadata": {},
     "output_type": "execute_result"
    }
   ],
   "source": [
    "df.UNS.value_counts()"
   ]
  },
  {
   "cell_type": "code",
   "execution_count": 91,
   "metadata": {},
   "outputs": [
    {
     "data": {
      "text/plain": [
       "low         129\n",
       "middle      122\n",
       "high        102\n",
       "very_low     50\n",
       "Name: UNS, dtype: int64"
      ]
     },
     "execution_count": 91,
     "metadata": {},
     "output_type": "execute_result"
    }
   ],
   "source": [
    "df.UNS = [each.lower().replace(\"very low\",\"very_low\") for each in df.UNS]\n",
    "df.UNS.value_counts()"
   ]
  },
  {
   "cell_type": "code",
   "execution_count": 94,
   "metadata": {},
   "outputs": [],
   "source": [
    "Y = df.UNS\n",
    "X = df.drop([\"UNS\"],axis= 1)"
   ]
  },
  {
   "cell_type": "code",
   "execution_count": 95,
   "metadata": {},
   "outputs": [],
   "source": [
    "from sklearn.svm import SVC\n",
    "from sklearn.neighbors import KNeighborsClassifier\n",
    "from sklearn.ensemble import RandomForestClassifier,VotingClassifier\n",
    "from sklearn.metrics import confusion_matrix,classification_report\n",
    "from sklearn.model_selection import StratifiedKFold, GridSearchCV\n",
    "from sklearn.metrics import accuracy_score"
   ]
  },
  {
   "cell_type": "code",
   "execution_count": 96,
   "metadata": {
    "id": "vAsAnbbsJjL7"
   },
   "outputs": [],
   "source": [
    "# Separamos datos para ajuste y prueba\n",
    "X_train, X_test, y_train, y_test = train_test_split(X, Y, train_size=0.8, test_size=0.2, random_state=100)"
   ]
  },
  {
   "cell_type": "code",
   "execution_count": 97,
   "metadata": {},
   "outputs": [
    {
     "data": {
      "text/plain": [
       "(322, 5)"
      ]
     },
     "execution_count": 97,
     "metadata": {},
     "output_type": "execute_result"
    }
   ],
   "source": [
    "X_train.shape"
   ]
  },
  {
   "cell_type": "code",
   "execution_count": 98,
   "metadata": {},
   "outputs": [
    {
     "data": {
      "text/plain": [
       "low         0.313665\n",
       "middle      0.304348\n",
       "high        0.260870\n",
       "very_low    0.121118\n",
       "Name: UNS, dtype: float64"
      ]
     },
     "execution_count": 98,
     "metadata": {},
     "output_type": "execute_result"
    }
   ],
   "source": [
    "pd.Series(y_train).value_counts(normalize = True)"
   ]
  },
  {
   "cell_type": "markdown",
   "metadata": {
    "id": "fXbedfEDevW6"
   },
   "source": [
    "# 4. Ajuste del modelo SVM"
   ]
  },
  {
   "cell_type": "code",
   "execution_count": 99,
   "metadata": {},
   "outputs": [],
   "source": [
    "model = svm.SVC(kernel='poly', degree=2, gamma='scale')"
   ]
  },
  {
   "cell_type": "code",
   "execution_count": 100,
   "metadata": {
    "id": "tq4e8xbJhq0O"
   },
   "outputs": [],
   "source": [
    "# Creamos el modelo SVM para clasificacion con kernel lineal/rbf y entrenamos el modelo\n",
    "model = svm.SVC(kernel='linear', C=100).fit(X_train, y_train)"
   ]
  },
  {
   "cell_type": "code",
   "execution_count": 105,
   "metadata": {
    "id": "9Po9fi24KP-E"
   },
   "outputs": [],
   "source": [
    "# Grabamos el modelo en el directorio\n",
    "pkl_filename = \"pickle_model.pkl\"\n",
    "with open(pkl_filename, 'wb') as file:\n",
    "    pickle.dump(model, file)"
   ]
  },
  {
   "cell_type": "code",
   "execution_count": 102,
   "metadata": {
    "id": "QAYlBpBjKRbD"
   },
   "outputs": [],
   "source": [
    "# Cargamos el modelo\n",
    "pkl_filename = \"pickle_model.pkl\"\n",
    "with open(pkl_filename, 'rb') as file:\n",
    "    model = pickle.load(file)"
   ]
  },
  {
   "cell_type": "markdown",
   "metadata": {
    "id": "veVwSmFse7Mg"
   },
   "source": [
    "# 5. Desempeño del modelo"
   ]
  },
  {
   "cell_type": "code",
   "execution_count": 103,
   "metadata": {
    "colab": {
     "base_uri": "https://localhost:8080/"
    },
    "id": "URDjg7jdiMQB",
    "outputId": "e002e90e-99e1-4267-f604-69690a1af584"
   },
   "outputs": [
    {
     "name": "stdout",
     "output_type": "stream",
     "text": [
      "0.9629629629629629\n"
     ]
    }
   ],
   "source": [
    "# Encontramos el accuracy promedio usando datos de test\n",
    "score = model.score(X_test, y_test)\n",
    "print(score)"
   ]
  },
  {
   "cell_type": "markdown",
   "metadata": {
    "id": "du4QJWAxfDdW"
   },
   "source": [
    "# 6. Probamos con una muestra nueva"
   ]
  },
  {
   "cell_type": "code",
   "execution_count": 104,
   "metadata": {
    "colab": {
     "base_uri": "https://localhost:8080/",
     "height": 35
    },
    "id": "e2wDTwEALfOe",
    "outputId": "a7c2100e-f8b3-4e3c-8253-acc2a057910c"
   },
   "outputs": [
    {
     "data": {
      "text/plain": [
       "'high'"
      ]
     },
     "execution_count": 104,
     "metadata": {},
     "output_type": "execute_result"
    }
   ],
   "source": [
    "x_in = np.asarray([0.08, 0.08 ,0.1, 0.24,0.9]).reshape(1,-1)\n",
    "predicts = model.predict(x_in)\n",
    "predicts[0]"
   ]
  },
  {
   "cell_type": "code",
   "execution_count": null,
   "metadata": {},
   "outputs": [],
   "source": []
  }
 ],
 "metadata": {
  "colab": {
   "name": "CropPrediction.ipynb",
   "provenance": []
  },
  "kernelspec": {
   "display_name": "Python 3 (ipykernel)",
   "language": "python",
   "name": "python3"
  },
  "language_info": {
   "codemirror_mode": {
    "name": "ipython",
    "version": 3
   },
   "file_extension": ".py",
   "mimetype": "text/x-python",
   "name": "python",
   "nbconvert_exporter": "python",
   "pygments_lexer": "ipython3",
   "version": "3.8.8"
  }
 },
 "nbformat": 4,
 "nbformat_minor": 4
}
